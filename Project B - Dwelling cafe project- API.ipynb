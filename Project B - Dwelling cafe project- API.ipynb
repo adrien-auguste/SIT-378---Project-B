{
 "cells": [
  {
   "cell_type": "markdown",
   "id": "d25a556d",
   "metadata": {},
   "source": [
    "# Use Case 1: Dwelling and Cafe dataset"
   ]
  },
  {
   "cell_type": "code",
   "execution_count": 1,
   "id": "fd01bb70",
   "metadata": {},
   "outputs": [],
   "source": [
    "import requests\n",
    "import pandas as pd\n",
    "import os\n",
    "import numpy as np"
   ]
  },
  {
   "cell_type": "markdown",
   "id": "06523bd5",
   "metadata": {},
   "source": [
    "## API Function"
   ]
  },
  {
   "cell_type": "code",
   "execution_count": 136,
   "id": "b84c9bec",
   "metadata": {},
   "outputs": [],
   "source": [
    "def fetch_data(base_url, dataset, api_key, num_records, max_offset,where, offset):\n",
    "    all_records =[]\n",
    "    #Maximum number of requests\n",
    "\n",
    "    while True:\n",
    "        # Maximum limit check\n",
    "        if offset > max_offset:\n",
    "            break\n",
    "        \n",
    "        # Create API request URL\n",
    "        \n",
    "        filters = f'{dataset}/records?&limit={num_records}&offset={offset}&where={where}'\n",
    "        url = f'{base_url}{filters}&api_key={api_key}'\n",
    "\n",
    "        try:\n",
    "            result = requests.get(url, timeout=10)\n",
    "            result.raise_for_status()\n",
    "            records = result.json().get('results')\n",
    "        except requests.exceptions.RequestException as e:\n",
    "            raise Exception(f'API request failed: {e}')\n",
    "        \n",
    "        if records is None:\n",
    "            break\n",
    "        \n",
    "        all_records.extend(records)\n",
    "        if len(records) < num_records:\n",
    "            break\n",
    "        \n",
    "        # next cycle offset\n",
    "        offset += num_records\n",
    "    \n",
    "    # Dataframe all data\n",
    "    df = pd.DataFrame(all_records)\n",
    "    return df\n"
   ]
  },
  {
   "cell_type": "markdown",
   "id": "29e60e9b",
   "metadata": {},
   "source": [
    "## Creating the DataSet .\n",
    "#### - API key is obtained from the MOP wensite.\n",
    "#### - API for dataset is displayed below:\n",
    "https://data.melbourne.vic.gov.au/api/explore/v2.1/catalog/datasets/development-activity-monitor/records?limit=20<br>\n",
    "https://data.melbourne.vic.gov.au/explore/dataset/cafes-and-restaurants-with-seating-capacity/api/?refine.census_year=2022<br>\n",
    "https://data.melbourne.vic.gov.au/explore/dataset/employment-by-block-by-clue-industry/api/<br>\n",
    "https://data.melbourne.vic.gov.au/explore/dataset/employment-by-block-by-clue-industry/api/\n",
    "\n"
   ]
  },
  {
   "cell_type": "code",
   "execution_count": 142,
   "id": "74fa4103",
   "metadata": {},
   "outputs": [],
   "source": [
    "# PERSONLA KEY: eb67c6d708fd15de910be7c7a1e7c7eac64c7c0ad1da6c6f7a8fe928\n",
    "API_KEY = 'c3fe52b3c0f0f3a2d07fc8d89192f5bd3e3234c68b2c30adcd8ab5ca'\n",
    "BASE_URL = \"https://data.melbourne.vic.gov.au/api/explore/v2.1/catalog/datasets/\"\n",
    "DATASET_DEVELOPMENT = 'development-activity-monitor'\n",
    "DATASET_CAFE = 'cafes-and-restaurants-with-seating-capacity'\n",
    "DATASET_BUS = 'business-establishments-per-block-by-anzsic'\n",
    "NUM_RECORD = 100\n",
    "MAX_OFFSET_DEV = 1420\n",
    "MAX_OFFSET_BUS = 12394\n",
    "MAX_OFFSET_CAF = 10000\n",
    "OFFSET = 0\n",
    "# General select and group_by for Business and Dwelling\n",
    "\n",
    "WHERE_DEV = ''\n",
    "WHERE_CAFE ='census_year%20%3E%202021'\n",
    "# Cafe dataset\n",
    "#WHERE_CAFE ='industry_anzsic4_code%20%3D%204511'\n",
    "#WHERE_CAFE=\"industry_anzsic4_code%20%3D%20'4511'%20AND%20census_year%20%3E%202001%20AND%20census_year%20%3C2007\"\n",
    "\n",
    "\n",
    "\n",
    "WHERE_BUS_2011 = 'census_year%20%3E%202010'\n",
    "WHERE_BUS_2010 ='census_year%20%3C%202011'\n",
    "\n",
    "#CAFE DATASET 2022: where=census_year%20%3E%202021\n",
    "#BUSINESS DATASET > 2010: where=census_year%20%3E%202010\n",
    "#BUSINESS DATASET <2011: where=census_year%20%3C%202011\n",
    "#/api/explore/v2.1/catalog/datasets/cafes-and-restaurants-with-seating-capacity/\n",
    "#records?\n",
    "#CAFE DATASET: select=census_year%2C%20clue_small_area%2Csum(number_of_seats)\n",
    "#CAFE DATASET: group_by=census_year%2C%20clue_small_area\n",
    "#&limit=20\n",
    "#&refine=industry_anzsic4_description%3A%22Cafes%20and%20Restaurants%22\n",
    "\n",
    "##\n",
    "#/api/explore/v2.1/catalog/datasets/cafes-and-restaurants-with-seating-capacity/records?\n",
    "#select=census_year%2C%20clue_small_area%2C%20count(industry_anzsic4_description)\n",
    "#&where=industry_anzsic4_code%20%3D%204511\n",
    "#&group_by=census_year%2C%20clue_small_area\n",
    "#&limit=20"
   ]
  },
  {
   "cell_type": "markdown",
   "id": "c5cdfbd7",
   "metadata": {},
   "source": [
    "## Creating three new dataset with API call"
   ]
  },
  {
   "cell_type": "markdown",
   "id": "fb94e84a",
   "metadata": {},
   "source": [
    "### Creating a new dataset called df_dev"
   ]
  },
  {
   "cell_type": "code",
   "execution_count": 144,
   "id": "e864b2a5",
   "metadata": {},
   "outputs": [],
   "source": [
    "df_dev = fetch_data(BASE_URL, DATASET_DEVELOPMENT, API_KEY, NUM_RECORD, MAX_OFFSET_DEV, WHERE_DEV, OFFSET)"
   ]
  },
  {
   "cell_type": "code",
   "execution_count": 118,
   "id": "19a28e4b",
   "metadata": {},
   "outputs": [
    {
     "data": {
      "text/plain": [
       "(1422, 42)"
      ]
     },
     "execution_count": 118,
     "metadata": {},
     "output_type": "execute_result"
    }
   ],
   "source": [
    "# Checking the shape of the new dataset to ensure the size is correct as per the MOP website\n",
    "df_dev.shape"
   ]
  },
  {
   "cell_type": "markdown",
   "id": "63943a04",
   "metadata": {},
   "source": [
    "### Creating a new datafset called df_cat from the MOP cafe for year 2022"
   ]
  },
  {
   "cell_type": "code",
   "execution_count": 145,
   "id": "135355c4",
   "metadata": {},
   "outputs": [],
   "source": [
    "df_caf= fetch_data(BASE_URL, DATASET_CAFE, API_KEY, NUM_RECORD, MAX_OFFSET_CAF, WHERE_CAFE, OFFSET)"
   ]
  },
  {
   "cell_type": "code",
   "execution_count": 130,
   "id": "6c6544b0",
   "metadata": {},
   "outputs": [
    {
     "data": {
      "text/plain": [
       "(3020, 15)"
      ]
     },
     "execution_count": 130,
     "metadata": {},
     "output_type": "execute_result"
    }
   ],
   "source": [
    "# Checking the shape of the new dataset to ensure the size is correct as per the MOP website\n",
    "df_caf_2007.shape"
   ]
  },
  {
   "cell_type": "code",
   "execution_count": 131,
   "id": "ddd36b9c",
   "metadata": {},
   "outputs": [
    {
     "data": {
      "text/html": [
       "<div>\n",
       "<style scoped>\n",
       "    .dataframe tbody tr th:only-of-type {\n",
       "        vertical-align: middle;\n",
       "    }\n",
       "\n",
       "    .dataframe tbody tr th {\n",
       "        vertical-align: top;\n",
       "    }\n",
       "\n",
       "    .dataframe thead th {\n",
       "        text-align: right;\n",
       "    }\n",
       "</style>\n",
       "<table border=\"1\" class=\"dataframe\">\n",
       "  <thead>\n",
       "    <tr style=\"text-align: right;\">\n",
       "      <th></th>\n",
       "      <th>census_year</th>\n",
       "      <th>block_id</th>\n",
       "      <th>property_id</th>\n",
       "      <th>base_property_id</th>\n",
       "      <th>building_address</th>\n",
       "      <th>clue_small_area</th>\n",
       "      <th>trading_name</th>\n",
       "      <th>business_address</th>\n",
       "      <th>industry_anzsic4_code</th>\n",
       "      <th>industry_anzsic4_description</th>\n",
       "      <th>seating_type</th>\n",
       "      <th>number_of_seats</th>\n",
       "      <th>longitude</th>\n",
       "      <th>latitude</th>\n",
       "      <th>location</th>\n",
       "    </tr>\n",
       "  </thead>\n",
       "  <tbody>\n",
       "    <tr>\n",
       "      <th>0</th>\n",
       "      <td>2002</td>\n",
       "      <td>4</td>\n",
       "      <td>104034</td>\n",
       "      <td>104034</td>\n",
       "      <td>207-361 Flinders Street MELBOURNE 3000</td>\n",
       "      <td>Melbourne (CBD)</td>\n",
       "      <td>Coffee HQ</td>\n",
       "      <td>Store 73, 0-0 Flinders Street MELBOURNE 3000</td>\n",
       "      <td>4511</td>\n",
       "      <td>Cafes and Restaurants</td>\n",
       "      <td>Seats - Indoor</td>\n",
       "      <td>32</td>\n",
       "      <td>144.965785</td>\n",
       "      <td>-37.818683</td>\n",
       "      <td>{'lon': 144.96578524594116, 'lat': -37.8186831...</td>\n",
       "    </tr>\n",
       "    <tr>\n",
       "      <th>1</th>\n",
       "      <td>2002</td>\n",
       "      <td>6</td>\n",
       "      <td>578320</td>\n",
       "      <td>573333</td>\n",
       "      <td>2 Swanston Street MELBOURNE 3000</td>\n",
       "      <td>Melbourne (CBD)</td>\n",
       "      <td>Rowlands Catering</td>\n",
       "      <td>Tenancy 3, 2 Swanston Street MELBOURNE 3000</td>\n",
       "      <td>4511</td>\n",
       "      <td>Cafes and Restaurants</td>\n",
       "      <td>Seats - Indoor</td>\n",
       "      <td>40</td>\n",
       "      <td>144.969984</td>\n",
       "      <td>-37.817764</td>\n",
       "      <td>{'lon': 144.96998385754014, 'lat': -37.8177638...</td>\n",
       "    </tr>\n",
       "    <tr>\n",
       "      <th>2</th>\n",
       "      <td>2002</td>\n",
       "      <td>12</td>\n",
       "      <td>103955</td>\n",
       "      <td>103955</td>\n",
       "      <td>475-485 Flinders Lane MELBOURNE 3000</td>\n",
       "      <td>Melbourne (CBD)</td>\n",
       "      <td>Cafe Rema</td>\n",
       "      <td>Ground , 485 Flinders Lane MELBOURNE 3000</td>\n",
       "      <td>4511</td>\n",
       "      <td>Cafes and Restaurants</td>\n",
       "      <td>Seats - Indoor</td>\n",
       "      <td>124</td>\n",
       "      <td>144.958110</td>\n",
       "      <td>-37.819370</td>\n",
       "      <td>{'lon': 144.958109540856, 'lat': -37.819369527...</td>\n",
       "    </tr>\n",
       "    <tr>\n",
       "      <th>3</th>\n",
       "      <td>2002</td>\n",
       "      <td>12</td>\n",
       "      <td>103995</td>\n",
       "      <td>103995</td>\n",
       "      <td>492-500 Flinders Street MELBOURNE 3000</td>\n",
       "      <td>Melbourne (CBD)</td>\n",
       "      <td>Miyabi Japanese Restaurant</td>\n",
       "      <td>Shop 1, 500 Flinders Street MELBOURNE 3000</td>\n",
       "      <td>4511</td>\n",
       "      <td>Cafes and Restaurants</td>\n",
       "      <td>Seats - Indoor</td>\n",
       "      <td>60</td>\n",
       "      <td>144.957833</td>\n",
       "      <td>-37.819994</td>\n",
       "      <td>{'lon': 144.95783329800847, 'lat': -37.8199943...</td>\n",
       "    </tr>\n",
       "    <tr>\n",
       "      <th>4</th>\n",
       "      <td>2002</td>\n",
       "      <td>12</td>\n",
       "      <td>103997</td>\n",
       "      <td>103997</td>\n",
       "      <td>472-482 Flinders Street MELBOURNE 3000</td>\n",
       "      <td>Melbourne (CBD)</td>\n",
       "      <td>Riverside Deli &amp; Coffee House</td>\n",
       "      <td>Shop 2, Ground , 474 Flinders Street MELBOURNE...</td>\n",
       "      <td>4511</td>\n",
       "      <td>Cafes and Restaurants</td>\n",
       "      <td>Seats - Indoor</td>\n",
       "      <td>54</td>\n",
       "      <td>144.958281</td>\n",
       "      <td>-37.819729</td>\n",
       "      <td>{'lon': 144.95828060621216, 'lat': -37.8197289...</td>\n",
       "    </tr>\n",
       "    <tr>\n",
       "      <th>...</th>\n",
       "      <td>...</td>\n",
       "      <td>...</td>\n",
       "      <td>...</td>\n",
       "      <td>...</td>\n",
       "      <td>...</td>\n",
       "      <td>...</td>\n",
       "      <td>...</td>\n",
       "      <td>...</td>\n",
       "      <td>...</td>\n",
       "      <td>...</td>\n",
       "      <td>...</td>\n",
       "      <td>...</td>\n",
       "      <td>...</td>\n",
       "      <td>...</td>\n",
       "      <td>...</td>\n",
       "    </tr>\n",
       "    <tr>\n",
       "      <th>3015</th>\n",
       "      <td>2003</td>\n",
       "      <td>67</td>\n",
       "      <td>105675</td>\n",
       "      <td>105675</td>\n",
       "      <td>113 Lonsdale Street MELBOURNE 3000</td>\n",
       "      <td>Melbourne (CBD)</td>\n",
       "      <td>Cafe Centrum</td>\n",
       "      <td>Ground , 113 Lonsdale Street MELBOURNE 3000</td>\n",
       "      <td>4511</td>\n",
       "      <td>Cafes and Restaurants</td>\n",
       "      <td>Seats - Outdoor</td>\n",
       "      <td>6</td>\n",
       "      <td>144.969020</td>\n",
       "      <td>-37.810567</td>\n",
       "      <td>{'lon': 144.9690204858293, 'lat': -37.81056668...</td>\n",
       "    </tr>\n",
       "    <tr>\n",
       "      <th>3016</th>\n",
       "      <td>2003</td>\n",
       "      <td>67</td>\n",
       "      <td>105678</td>\n",
       "      <td>105678</td>\n",
       "      <td>123-129 Lonsdale Street MELBOURNE 3000</td>\n",
       "      <td>Melbourne (CBD)</td>\n",
       "      <td>Cafe 123</td>\n",
       "      <td>Part 123-129 Lonsdale Street MELBOURNE 3000</td>\n",
       "      <td>4511</td>\n",
       "      <td>Cafes and Restaurants</td>\n",
       "      <td>Seats - Indoor</td>\n",
       "      <td>22</td>\n",
       "      <td>144.968685</td>\n",
       "      <td>-37.810719</td>\n",
       "      <td>{'lon': 144.96868472948114, 'lat': -37.8107187...</td>\n",
       "    </tr>\n",
       "    <tr>\n",
       "      <th>3017</th>\n",
       "      <td>2003</td>\n",
       "      <td>67</td>\n",
       "      <td>105892</td>\n",
       "      <td>105892</td>\n",
       "      <td>124-126 Little Bourke Street MELBOURNE 3000</td>\n",
       "      <td>Melbourne (CBD)</td>\n",
       "      <td>Golden Orchid Restaurant</td>\n",
       "      <td>Part Gnd &amp; Mezz , 126 Little Bourke Street MEL...</td>\n",
       "      <td>4511</td>\n",
       "      <td>Cafes and Restaurants</td>\n",
       "      <td>Seats - Indoor</td>\n",
       "      <td>80</td>\n",
       "      <td>144.968769</td>\n",
       "      <td>-37.811313</td>\n",
       "      <td>{'lon': 144.96876936807104, 'lat': -37.8113130...</td>\n",
       "    </tr>\n",
       "    <tr>\n",
       "      <th>3018</th>\n",
       "      <td>2003</td>\n",
       "      <td>67</td>\n",
       "      <td>105893</td>\n",
       "      <td>105893</td>\n",
       "      <td>120-122 Little Bourke Street MELBOURNE 3000</td>\n",
       "      <td>Melbourne (CBD)</td>\n",
       "      <td>Empress of China</td>\n",
       "      <td>120-122 Little Bourke Street MELBOURNE 3000</td>\n",
       "      <td>4511</td>\n",
       "      <td>Cafes and Restaurants</td>\n",
       "      <td>Seats - Indoor</td>\n",
       "      <td>110</td>\n",
       "      <td>144.968919</td>\n",
       "      <td>-37.811317</td>\n",
       "      <td>{'lon': 144.96891850692202, 'lat': -37.8113168...</td>\n",
       "    </tr>\n",
       "    <tr>\n",
       "      <th>3019</th>\n",
       "      <td>2003</td>\n",
       "      <td>67</td>\n",
       "      <td>105895</td>\n",
       "      <td>105895</td>\n",
       "      <td>112-114 Little Bourke Street MELBOURNE 3000</td>\n",
       "      <td>Melbourne (CBD)</td>\n",
       "      <td>Shanghai Village</td>\n",
       "      <td>112-114 Little Bourke Street MELBOURNE 3000</td>\n",
       "      <td>4511</td>\n",
       "      <td>Cafes and Restaurants</td>\n",
       "      <td>Seats - Indoor</td>\n",
       "      <td>150</td>\n",
       "      <td>144.969085</td>\n",
       "      <td>-37.811247</td>\n",
       "      <td>{'lon': 144.96908526918833, 'lat': -37.8112473...</td>\n",
       "    </tr>\n",
       "  </tbody>\n",
       "</table>\n",
       "<p>3020 rows × 15 columns</p>\n",
       "</div>"
      ],
      "text/plain": [
       "     census_year  block_id property_id base_property_id  \\\n",
       "0           2002         4      104034           104034   \n",
       "1           2002         6      578320           573333   \n",
       "2           2002        12      103955           103955   \n",
       "3           2002        12      103995           103995   \n",
       "4           2002        12      103997           103997   \n",
       "...          ...       ...         ...              ...   \n",
       "3015        2003        67      105675           105675   \n",
       "3016        2003        67      105678           105678   \n",
       "3017        2003        67      105892           105892   \n",
       "3018        2003        67      105893           105893   \n",
       "3019        2003        67      105895           105895   \n",
       "\n",
       "                                 building_address  clue_small_area  \\\n",
       "0          207-361 Flinders Street MELBOURNE 3000  Melbourne (CBD)   \n",
       "1                2 Swanston Street MELBOURNE 3000  Melbourne (CBD)   \n",
       "2            475-485 Flinders Lane MELBOURNE 3000  Melbourne (CBD)   \n",
       "3          492-500 Flinders Street MELBOURNE 3000  Melbourne (CBD)   \n",
       "4          472-482 Flinders Street MELBOURNE 3000  Melbourne (CBD)   \n",
       "...                                           ...              ...   \n",
       "3015           113 Lonsdale Street MELBOURNE 3000  Melbourne (CBD)   \n",
       "3016       123-129 Lonsdale Street MELBOURNE 3000  Melbourne (CBD)   \n",
       "3017  124-126 Little Bourke Street MELBOURNE 3000  Melbourne (CBD)   \n",
       "3018  120-122 Little Bourke Street MELBOURNE 3000  Melbourne (CBD)   \n",
       "3019  112-114 Little Bourke Street MELBOURNE 3000  Melbourne (CBD)   \n",
       "\n",
       "                       trading_name  \\\n",
       "0                         Coffee HQ   \n",
       "1                 Rowlands Catering   \n",
       "2                         Cafe Rema   \n",
       "3        Miyabi Japanese Restaurant   \n",
       "4     Riverside Deli & Coffee House   \n",
       "...                             ...   \n",
       "3015                   Cafe Centrum   \n",
       "3016                       Cafe 123   \n",
       "3017       Golden Orchid Restaurant   \n",
       "3018               Empress of China   \n",
       "3019               Shanghai Village   \n",
       "\n",
       "                                       business_address industry_anzsic4_code  \\\n",
       "0          Store 73, 0-0 Flinders Street MELBOURNE 3000                  4511   \n",
       "1           Tenancy 3, 2 Swanston Street MELBOURNE 3000                  4511   \n",
       "2             Ground , 485 Flinders Lane MELBOURNE 3000                  4511   \n",
       "3            Shop 1, 500 Flinders Street MELBOURNE 3000                  4511   \n",
       "4     Shop 2, Ground , 474 Flinders Street MELBOURNE...                  4511   \n",
       "...                                                 ...                   ...   \n",
       "3015        Ground , 113 Lonsdale Street MELBOURNE 3000                  4511   \n",
       "3016        Part 123-129 Lonsdale Street MELBOURNE 3000                  4511   \n",
       "3017  Part Gnd & Mezz , 126 Little Bourke Street MEL...                  4511   \n",
       "3018        120-122 Little Bourke Street MELBOURNE 3000                  4511   \n",
       "3019        112-114 Little Bourke Street MELBOURNE 3000                  4511   \n",
       "\n",
       "     industry_anzsic4_description     seating_type  number_of_seats  \\\n",
       "0           Cafes and Restaurants   Seats - Indoor               32   \n",
       "1           Cafes and Restaurants   Seats - Indoor               40   \n",
       "2           Cafes and Restaurants   Seats - Indoor              124   \n",
       "3           Cafes and Restaurants   Seats - Indoor               60   \n",
       "4           Cafes and Restaurants   Seats - Indoor               54   \n",
       "...                           ...              ...              ...   \n",
       "3015        Cafes and Restaurants  Seats - Outdoor                6   \n",
       "3016        Cafes and Restaurants   Seats - Indoor               22   \n",
       "3017        Cafes and Restaurants   Seats - Indoor               80   \n",
       "3018        Cafes and Restaurants   Seats - Indoor              110   \n",
       "3019        Cafes and Restaurants   Seats - Indoor              150   \n",
       "\n",
       "       longitude   latitude                                           location  \n",
       "0     144.965785 -37.818683  {'lon': 144.96578524594116, 'lat': -37.8186831...  \n",
       "1     144.969984 -37.817764  {'lon': 144.96998385754014, 'lat': -37.8177638...  \n",
       "2     144.958110 -37.819370  {'lon': 144.958109540856, 'lat': -37.819369527...  \n",
       "3     144.957833 -37.819994  {'lon': 144.95783329800847, 'lat': -37.8199943...  \n",
       "4     144.958281 -37.819729  {'lon': 144.95828060621216, 'lat': -37.8197289...  \n",
       "...          ...        ...                                                ...  \n",
       "3015  144.969020 -37.810567  {'lon': 144.9690204858293, 'lat': -37.81056668...  \n",
       "3016  144.968685 -37.810719  {'lon': 144.96868472948114, 'lat': -37.8107187...  \n",
       "3017  144.968769 -37.811313  {'lon': 144.96876936807104, 'lat': -37.8113130...  \n",
       "3018  144.968919 -37.811317  {'lon': 144.96891850692202, 'lat': -37.8113168...  \n",
       "3019  144.969085 -37.811247  {'lon': 144.96908526918833, 'lat': -37.8112473...  \n",
       "\n",
       "[3020 rows x 15 columns]"
      ]
     },
     "execution_count": 131,
     "metadata": {},
     "output_type": "execute_result"
    }
   ],
   "source": [
    "df_caf"
   ]
  },
  {
   "cell_type": "markdown",
   "id": "1660f735",
   "metadata": {},
   "source": [
    "### Creating a new dataset called df_bus from the MOP website<br>\n",
    "- Need to breakdown the dataset into two parts due to the size of the dataset. "
   ]
  },
  {
   "cell_type": "code",
   "execution_count": 146,
   "id": "997be805",
   "metadata": {},
   "outputs": [
    {
     "ename": "Exception",
     "evalue": "API request failed: 429 Client Error: Too Many Requests for url: https://data.melbourne.vic.gov.au/api/explore/v2.1/catalog/datasets/business-establishments-per-block-by-anzsic/records?&limit=100&offset=0&where=census_year%20%3E%202010&api_key=c3fe52b3c0f0f3a2d07fc8d89192f5bd3e3234c68b2c30adcd8ab5ca",
     "output_type": "error",
     "traceback": [
      "\u001b[0;31m---------------------------------------------------------------------------\u001b[0m",
      "\u001b[0;31mHTTPError\u001b[0m                                 Traceback (most recent call last)",
      "Cell \u001b[0;32mIn[136], line 17\u001b[0m, in \u001b[0;36mfetch_data\u001b[0;34m(base_url, dataset, api_key, num_records, max_offset, where, offset)\u001b[0m\n\u001b[1;32m     16\u001b[0m result \u001b[38;5;241m=\u001b[39m requests\u001b[38;5;241m.\u001b[39mget(url, timeout\u001b[38;5;241m=\u001b[39m\u001b[38;5;241m10\u001b[39m)\n\u001b[0;32m---> 17\u001b[0m result\u001b[38;5;241m.\u001b[39mraise_for_status()\n\u001b[1;32m     18\u001b[0m records \u001b[38;5;241m=\u001b[39m result\u001b[38;5;241m.\u001b[39mjson()\u001b[38;5;241m.\u001b[39mget(\u001b[38;5;124m'\u001b[39m\u001b[38;5;124mresults\u001b[39m\u001b[38;5;124m'\u001b[39m)\n",
      "File \u001b[0;32m~/opt/anaconda3/envs/MachineLearning/lib/python3.11/site-packages/requests/models.py:1021\u001b[0m, in \u001b[0;36mResponse.raise_for_status\u001b[0;34m(self)\u001b[0m\n\u001b[1;32m   1020\u001b[0m \u001b[38;5;28;01mif\u001b[39;00m http_error_msg:\n\u001b[0;32m-> 1021\u001b[0m     \u001b[38;5;28;01mraise\u001b[39;00m HTTPError(http_error_msg, response\u001b[38;5;241m=\u001b[39m\u001b[38;5;28mself\u001b[39m)\n",
      "\u001b[0;31mHTTPError\u001b[0m: 429 Client Error: Too Many Requests for url: https://data.melbourne.vic.gov.au/api/explore/v2.1/catalog/datasets/business-establishments-per-block-by-anzsic/records?&limit=100&offset=0&where=census_year%20%3E%202010&api_key=c3fe52b3c0f0f3a2d07fc8d89192f5bd3e3234c68b2c30adcd8ab5ca",
      "\nDuring handling of the above exception, another exception occurred:\n",
      "\u001b[0;31mException\u001b[0m                                 Traceback (most recent call last)",
      "Cell \u001b[0;32mIn[146], line 1\u001b[0m\n\u001b[0;32m----> 1\u001b[0m df_2011 \u001b[38;5;241m=\u001b[39m fetch_data(BASE_URL, DATASET_BUS, API_KEY, NUM_RECORD, MAX_OFFSET_BUS, WHERE_BUS_2011, OFFSET)\n",
      "Cell \u001b[0;32mIn[136], line 20\u001b[0m, in \u001b[0;36mfetch_data\u001b[0;34m(base_url, dataset, api_key, num_records, max_offset, where, offset)\u001b[0m\n\u001b[1;32m     18\u001b[0m     records \u001b[38;5;241m=\u001b[39m result\u001b[38;5;241m.\u001b[39mjson()\u001b[38;5;241m.\u001b[39mget(\u001b[38;5;124m'\u001b[39m\u001b[38;5;124mresults\u001b[39m\u001b[38;5;124m'\u001b[39m)\n\u001b[1;32m     19\u001b[0m \u001b[38;5;28;01mexcept\u001b[39;00m requests\u001b[38;5;241m.\u001b[39mexceptions\u001b[38;5;241m.\u001b[39mRequestException \u001b[38;5;28;01mas\u001b[39;00m e:\n\u001b[0;32m---> 20\u001b[0m     \u001b[38;5;28;01mraise\u001b[39;00m \u001b[38;5;167;01mException\u001b[39;00m(\u001b[38;5;124mf\u001b[39m\u001b[38;5;124m'\u001b[39m\u001b[38;5;124mAPI request failed: \u001b[39m\u001b[38;5;132;01m{\u001b[39;00me\u001b[38;5;132;01m}\u001b[39;00m\u001b[38;5;124m'\u001b[39m)\n\u001b[1;32m     22\u001b[0m \u001b[38;5;28;01mif\u001b[39;00m records \u001b[38;5;129;01mis\u001b[39;00m \u001b[38;5;28;01mNone\u001b[39;00m:\n\u001b[1;32m     23\u001b[0m     \u001b[38;5;28;01mbreak\u001b[39;00m\n",
      "\u001b[0;31mException\u001b[0m: API request failed: 429 Client Error: Too Many Requests for url: https://data.melbourne.vic.gov.au/api/explore/v2.1/catalog/datasets/business-establishments-per-block-by-anzsic/records?&limit=100&offset=0&where=census_year%20%3E%202010&api_key=c3fe52b3c0f0f3a2d07fc8d89192f5bd3e3234c68b2c30adcd8ab5ca"
     ]
    }
   ],
   "source": [
    "df_2011 = fetch_data(BASE_URL, DATASET_BUS, API_KEY, NUM_RECORD, MAX_OFFSET_BUS, WHERE_BUS_2011, OFFSET)"
   ]
  },
  {
   "cell_type": "code",
   "execution_count": 35,
   "id": "7c3d3ab2",
   "metadata": {},
   "outputs": [
    {
     "data": {
      "text/plain": [
       "(7279, 23)"
      ]
     },
     "execution_count": 35,
     "metadata": {},
     "output_type": "execute_result"
    }
   ],
   "source": [
    "df_2011.shape"
   ]
  },
  {
   "cell_type": "code",
   "execution_count": 37,
   "id": "8f168d3e",
   "metadata": {},
   "outputs": [],
   "source": [
    "df_2010 = fetch_data(BASE_URL, DATASET_BUS, API_KEY, NUM_RECORD, MAX_OFFSET_BUS,WHERE_BUS_2010, OFFSET)"
   ]
  },
  {
   "cell_type": "code",
   "execution_count": 39,
   "id": "a7fcb734",
   "metadata": {},
   "outputs": [
    {
     "data": {
      "text/plain": [
       "(5115, 23)"
      ]
     },
     "execution_count": 39,
     "metadata": {},
     "output_type": "execute_result"
    }
   ],
   "source": [
    "df_2010.shape"
   ]
  },
  {
   "cell_type": "code",
   "execution_count": 40,
   "id": "a055e9d0",
   "metadata": {},
   "outputs": [],
   "source": [
    "# Joining the two datasets together\n",
    "df_bus = pd.concat([df_2011,df_2010])"
   ]
  },
  {
   "cell_type": "code",
   "execution_count": 41,
   "id": "07344a85",
   "metadata": {},
   "outputs": [
    {
     "data": {
      "text/plain": [
       "(12394, 23)"
      ]
     },
     "execution_count": 41,
     "metadata": {},
     "output_type": "execute_result"
    }
   ],
   "source": [
    "# Checking the new dataset, expecting the shape to be (12,394, 23)\n",
    "df_bus.shape"
   ]
  },
  {
   "cell_type": "markdown",
   "id": "f0f60815",
   "metadata": {},
   "source": [
    "### Saving the dataset to drive for future use."
   ]
  },
  {
   "cell_type": "code",
   "execution_count": 43,
   "id": "277f0258",
   "metadata": {},
   "outputs": [],
   "source": [
    "df_dev.to_csv('Dwelling.csv',index = False)"
   ]
  },
  {
   "cell_type": "code",
   "execution_count": 44,
   "id": "26aa52d9",
   "metadata": {},
   "outputs": [],
   "source": [
    "df_caf.to_csv('Cafe.csv',index = False)"
   ]
  },
  {
   "cell_type": "code",
   "execution_count": 45,
   "id": "7eb0e16a",
   "metadata": {},
   "outputs": [],
   "source": [
    "df_bus.to_csv('Business.csv',index = False)"
   ]
  }
 ],
 "metadata": {
  "kernelspec": {
   "display_name": "Python 3 (ipykernel)",
   "language": "python",
   "name": "python3"
  },
  "language_info": {
   "codemirror_mode": {
    "name": "ipython",
    "version": 3
   },
   "file_extension": ".py",
   "mimetype": "text/x-python",
   "name": "python",
   "nbconvert_exporter": "python",
   "pygments_lexer": "ipython3",
   "version": "3.11.5"
  }
 },
 "nbformat": 4,
 "nbformat_minor": 5
}
