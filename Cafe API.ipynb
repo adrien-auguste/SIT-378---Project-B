{
 "cells": [
  {
   "cell_type": "markdown",
   "id": "ca18f0e5",
   "metadata": {},
   "source": [
    "# Cafe API "
   ]
  },
  {
   "cell_type": "code",
   "execution_count": 1,
   "id": "053d6f00",
   "metadata": {},
   "outputs": [],
   "source": [
    "import requests\n",
    "import pandas as pd\n",
    "import os\n",
    "import numpy as np"
   ]
  },
  {
   "cell_type": "code",
   "execution_count": null,
   "id": "293cebe1",
   "metadata": {},
   "outputs": [],
   "source": [
    "https://data.melbourne.vic.gov.au/api/explore/v2.1/catalog/datasets/cafes-and-restaurants-with-seating-capacity/records?select=census_year%2C%20clue_small_area%2C%20count(industry_anzsic4_code)%20as%20total&group_by=census_year%2C%20clue_small_area&limit=20"
   ]
  },
  {
   "cell_type": "code",
   "execution_count": 13,
   "id": "9536bc1e",
   "metadata": {},
   "outputs": [],
   "source": [
    "def fetch_data(base_url, api_key,offset,max_offset,num_records):\n",
    "    all_records =[]\n",
    "    #Maximum number of requests\n",
    "\n",
    "    while True:\n",
    "        # Maximum limit check\n",
    "        if offset > max_offset:\n",
    "            break\n",
    "        \n",
    "        # Create API request URL\n",
    "        \n",
    "        url = f'{base_url}&api_key={api_key}'\n",
    "\n",
    "        try:\n",
    "            result = requests.get(url, timeout=10)\n",
    "            result.raise_for_status()\n",
    "            records = result.json().get('results')\n",
    "        except requests.exceptions.RequestException as e:\n",
    "            raise Exception(f'API request failed: {e}')\n",
    "        \n",
    "        if records is None:\n",
    "            break\n",
    "        \n",
    "        all_records.extend(records)\n",
    "        if len(records) < num_records:\n",
    "            break\n",
    "        \n",
    "        # next cycle offset\n",
    "        offset += num_records\n",
    "    \n",
    "    # Dataframe all data\n",
    "    df = pd.DataFrame(all_records)\n",
    "    return df\n"
   ]
  },
  {
   "cell_type": "code",
   "execution_count": 3,
   "id": "675a97a7",
   "metadata": {},
   "outputs": [],
   "source": [
    "URL = 'https://data.melbourne.vic.gov.au/api/explore/v2.1/catalog/datasets/cafes-and-restaurants-with-seating-capacity/records?select=census_year%2C%20clue_small_area%2C%20count(industry_anzsic4_code)%20as%20total&group_by=census_year%2C%20clue_small_area'"
   ]
  },
  {
   "cell_type": "code",
   "execution_count": 15,
   "id": "d2134328",
   "metadata": {},
   "outputs": [],
   "source": [
    "API_KEY = 'c3fe52b3c0f0f3a2d07fc8d89192f5bd3e3234c68b2c30adcd8ab5ca'\n",
    "OFFSET = 0\n",
    "MAX_OFFSET_CAF = 10000\n",
    "NUM_RECORD = 100"
   ]
  },
  {
   "cell_type": "code",
   "execution_count": 17,
   "id": "1dc3f9e3",
   "metadata": {},
   "outputs": [],
   "source": [
    "data = fetch_data(URL, API_KEY, OFFSET,MAX_OFFSET_CAF,NUM_RECORD )"
   ]
  },
  {
   "cell_type": "code",
   "execution_count": 18,
   "id": "0173f1a4",
   "metadata": {},
   "outputs": [
    {
     "data": {
      "text/plain": [
       "census_year        0\n",
       "clue_small_area    0\n",
       "total              0\n",
       "dtype: int64"
      ]
     },
     "execution_count": 18,
     "metadata": {},
     "output_type": "execute_result"
    }
   ],
   "source": [
    "data.isna().sum()"
   ]
  },
  {
   "cell_type": "code",
   "execution_count": 19,
   "id": "4fd8d7bf",
   "metadata": {},
   "outputs": [],
   "source": [
    "data.to_csv('cafe.csv',index=False)"
   ]
  },
  {
   "cell_type": "code",
   "execution_count": null,
   "id": "2588c615",
   "metadata": {},
   "outputs": [],
   "source": []
  },
  {
   "cell_type": "code",
   "execution_count": null,
   "id": "5a9390e8",
   "metadata": {},
   "outputs": [],
   "source": []
  }
 ],
 "metadata": {
  "kernelspec": {
   "display_name": "Python 3 (ipykernel)",
   "language": "python",
   "name": "python3"
  },
  "language_info": {
   "codemirror_mode": {
    "name": "ipython",
    "version": 3
   },
   "file_extension": ".py",
   "mimetype": "text/x-python",
   "name": "python",
   "nbconvert_exporter": "python",
   "pygments_lexer": "ipython3",
   "version": "3.11.5"
  }
 },
 "nbformat": 4,
 "nbformat_minor": 5
}
